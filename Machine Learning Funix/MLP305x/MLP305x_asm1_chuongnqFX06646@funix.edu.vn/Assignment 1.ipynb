{
 "cells": [
  {
   "cell_type": "markdown",
   "metadata": {},
   "source": [
    "# Intent Recognition In Chatbot System\n",
    "\n",
    "In this assignment, you will be building machine learning models that can recognize intents of user inputs in chatbot systems. You probably have heard about chatbots before, but for those of you who are not familiar with chatbots, here is a quick description. A chatbot is a program that conducts a conversation via auditory or textual methods. In practice chatbots are used in many different purposes including customer services or information acquisition. Today, most chatbots are accessed via virtual assistants such as Google Assistant, Apple Siri, Amazon Alexa, via messaging apps such as Facebook Messenger, or via individual organization’ apps and websites (you can check out Wikipedia article for more information https://en.wikipedia.org/wiki/Chatbot). You are probably wondering what is intent recognition in chatbot systems? Many chatbot systems that contains the intent recognition module which is trying to figuring out what the users want when interacting with the chatbot. For example, an user might say “find restaurants near me”, “find Vietnamese restaurants near me” which all have the “find_restaurant” intent. Usually, a goal-oriented chatbot has a pre-defined set of intents (goal-oriented chatbot is a type of chatbot that helps users do a specific task like set an alarm, find restaurnts, order pizza, …). For example, an virtual assistants might contains the following intents: set_alarm, find_restaurants, open_app, find_video, … So, the purpose of this assignment is trying to find the intent of a user input using this dataset https://github.com/snipsco/nlu-benchmark/tree/master/2017-06-custom-intent-engines. You can treat this problem as a classification problem which classifies a user input text into a category which is an intent. So, in this assignment you will do the following:\n",
    "<br>\n",
    "- Identifying the problem\n",
    "- Learning about machine learning project life cycle and apply it\n",
    "- Collecting the data\n",
    "- Preprocessing the data\n",
    "- Understanding the data\n",
    "- Represent user texts as vectors using TfidfVectorizer\n",
    "- Train, evaluate baseline Logistic Regression model\n",
    "- Train, evaluate cross-validation Logistic Regression model\n",
    "- Learning about word embeddings\n",
    "- Represent user texts as vectors using word embedding with spaCy\n",
    "- Train, evaluate Feedforward Neural Network model\n",
    "- Error analysis\n",
    "- Improving the models\n",
    "- Deploy the models"
   ]
  },
  {
   "cell_type": "markdown",
   "metadata": {},
   "source": [
    "## Identifying the problem and machine learning project life cycle\n",
    "As we have discussed in the previous section, we can view this problem as a machine learning classification problem so you could immediately think, ah let's choose a classification machine learing algorithm and implement it and see the results and then improve it. That process is ok and in fact that is what we are going to do :D, but we will do it more strategically. Before we jump right into the problem let's take a step back and talk about the life cycle of a machine learning project from this book **Machine Learning Yearning** (you can get it for free from the official website https://www.deeplearning.ai/machine-learning-yearning/), so we can apply it to any machine learing project, we highly encourage you to read this book so you can get more details about developing machine projects. The image below is taken from the section 10 from the book that describes a general process when developing a machine learning project."
   ]
  },
  {
   "cell_type": "markdown",
   "metadata": {},
   "source": [
    "<img src=\"images/ml_process.png\">"
   ]
  },
  {
   "cell_type": "markdown",
   "metadata": {},
   "source": [
    "Here is the description that are copied directly from the book:\n",
    "<br>\n",
    "1. Start off with some idea on how to build the system.\n",
    "2. Implement the idea in code.\n",
    "3. Carry out an experiment which tells me how well the idea worked. (Usually my first few\n",
    "ideas don’t work!) Based on these learnings, go back to generate more ideas, and keep on\n",
    "iterating.\n",
    "<br>"
   ]
  },
  {
   "cell_type": "markdown",
   "metadata": {},
   "source": [
    "This is an iterative process. The faster you can go round this loop, the faster you will make\n",
    "progress. The step 3 usually involves evaluating the models using some metrics on the dev set and doing error analysis so we can improve the models. Here we mention the **dev** set in which you might not have heard of it throughout this specification. The book' main focus is on deep learning projects (but we can use for general machine learning projects as well as mention in the book) and often when doing deep learning project, we have quite a lot of data so people usually split the data into three data sets which are train, dev, test; then we iterate and experiment our methods on the dev set, then we choose the best model using the dev set, then evaluate the best model on the test set only once. The reason we don't experiment with our methods on the test set because we might highly end up overfitting the test set, so we only evaluate the test set once to get our final result is a reasonable way to check our model's generation ability.\n",
    "<br>\n",
    "In the case we don't have much data we can use cross-validation to tune, experiment with our methods then we pick the best model to evaluate on the test set (we have discussed cross-validation in the **Machine learning classification** course).\n",
    "<br>\n",
    "In previous courses in this specification, the process you doing the assignments is some what similar to this process. In this course we will do our assignments using this process and you shold use this process when you do your final project. Now, let's jump into our problem."
   ]
  },
  {
   "cell_type": "markdown",
   "metadata": {},
   "source": [
    "## Collecting and preprocessing the data"
   ]
  },
  {
   "cell_type": "markdown",
   "metadata": {},
   "source": [
    "We will use this data set https://github.com/snipsco/nlu-benchmark/tree/master/2017-06-custom-intent-engines. The data is originally collected as a benchmark for chatbot creating frameworks, services such as Wit.ai, Luis.ai, Api.ai (dialogfow.com now), Alexa, Snips. Those frameworks are really user-friendly and intuitive to use so we highly encourage you to check them out. Those frameworks usually contain intents classification and other features, here we only focus on the intent classification feature and we will implement it our self.\n",
    "<br>\n",
    "We have already included the data in the **data** folder for you and only keep the files that we need for this assignment.\n",
    "<br>\n",
    "Each folder includes data for the intent and inside each of them contains two JSON files, one for training and one for testing."
   ]
  },
  {
   "cell_type": "markdown",
   "metadata": {},
   "source": [
    "### Import some libs"
   ]
  },
  {
   "cell_type": "code",
   "execution_count": 1,
   "metadata": {},
   "outputs": [],
   "source": [
    "import numpy as np\n",
    "import sys\n",
    "import os\n",
    "import json\n",
    "import pandas as pd\n",
    "from sklearn.utils import shuffle"
   ]
  },
  {
   "cell_type": "markdown",
   "metadata": {},
   "source": [
    "### Read json files\n",
    "Run the cell below to load the JSON data into **train_df** and **test_df** dataframes. The dataframes have two columns which are **text** (the user input text), **intent** (the intent of the user input text)."
   ]
  },
  {
   "cell_type": "code",
   "execution_count": 2,
   "metadata": {},
   "outputs": [],
   "source": [
    "def get_json_examples(intent_name, json_data):\n",
    "    examples = []\n",
    "    for e in json_data:\n",
    "        parts = []\n",
    "        for p in e[\"data\"]:\n",
    "            parts.append(p[\"text\"])\n",
    "        examples.append({\n",
    "            \"intent\": intent_name,\n",
    "            \"text\": \"\".join(parts)\n",
    "        })\n",
    "    return examples\n",
    "\n",
    "train_json_examples = []\n",
    "test_json_examples = []\n",
    "\n",
    "for intent_name in next(os.walk(\"./data\"))[1]:\n",
    "    train_file = f\"data/{intent_name}/train_{intent_name}_full.json\"\n",
    "    test_file = f\"data/{intent_name}/validate_{intent_name}.json\"\n",
    "\n",
    "    with open(train_file, \"r\", encoding=\"utf8\") as f:\n",
    "        train_json = json.load(f)\n",
    "        train_json_examples += get_json_examples(intent_name, train_json[intent_name])\n",
    "        \n",
    "    with open(test_file, \"r\", encoding=\"utf8\") as f:\n",
    "        test_json = json.load(f)\n",
    "        test_json_examples += get_json_examples(intent_name, test_json[intent_name])\n",
    "        \n",
    "train_df = pd.DataFrame.from_records(train_json_examples)\n",
    "test_df = pd.DataFrame.from_records(test_json_examples)\n",
    "\n",
    "train_df = shuffle(train_df, random_state=10)\n",
    "test_df = shuffle(test_df, random_state=10)"
   ]
  },
  {
   "cell_type": "code",
   "execution_count": 3,
   "metadata": {},
   "outputs": [
    {
     "data": {
      "text/html": [
       "<div>\n",
       "<style scoped>\n",
       "    .dataframe tbody tr th:only-of-type {\n",
       "        vertical-align: middle;\n",
       "    }\n",
       "\n",
       "    .dataframe tbody tr th {\n",
       "        vertical-align: top;\n",
       "    }\n",
       "\n",
       "    .dataframe thead th {\n",
       "        text-align: right;\n",
       "    }\n",
       "</style>\n",
       "<table border=\"1\" class=\"dataframe\">\n",
       "  <thead>\n",
       "    <tr style=\"text-align: right;\">\n",
       "      <th></th>\n",
       "      <th>intent</th>\n",
       "      <th>text</th>\n",
       "    </tr>\n",
       "  </thead>\n",
       "  <tbody>\n",
       "    <tr>\n",
       "      <th>12353</th>\n",
       "      <td>SearchScreeningEvent</td>\n",
       "      <td>movie schedule at Speakeasy Theaters</td>\n",
       "    </tr>\n",
       "    <tr>\n",
       "      <th>10554</th>\n",
       "      <td>SearchCreativeWork</td>\n",
       "      <td>I want to watch Escape the Fate discography</td>\n",
       "    </tr>\n",
       "    <tr>\n",
       "      <th>12414</th>\n",
       "      <td>SearchScreeningEvent</td>\n",
       "      <td>when is Our Story showing next at North Americ...</td>\n",
       "    </tr>\n",
       "    <tr>\n",
       "      <th>11545</th>\n",
       "      <td>SearchCreativeWork</td>\n",
       "      <td>find a picture called How Much Wood Would a Wo...</td>\n",
       "    </tr>\n",
       "    <tr>\n",
       "      <th>8313</th>\n",
       "      <td>RateBook</td>\n",
       "      <td>Can you give this textbook a 2 out of 6?</td>\n",
       "    </tr>\n",
       "  </tbody>\n",
       "</table>\n",
       "</div>"
      ],
      "text/plain": [
       "                     intent                                               text\n",
       "12353  SearchScreeningEvent               movie schedule at Speakeasy Theaters\n",
       "10554    SearchCreativeWork        I want to watch Escape the Fate discography\n",
       "12414  SearchScreeningEvent  when is Our Story showing next at North Americ...\n",
       "11545    SearchCreativeWork  find a picture called How Much Wood Would a Wo...\n",
       "8313               RateBook           Can you give this textbook a 2 out of 6?"
      ]
     },
     "execution_count": 3,
     "metadata": {},
     "output_type": "execute_result"
    }
   ],
   "source": [
    "train_df.head()"
   ]
  },
  {
   "cell_type": "markdown",
   "metadata": {},
   "source": [
    "### Plot bar graphs"
   ]
  },
  {
   "cell_type": "markdown",
   "metadata": {},
   "source": [
    "Plot a bar graph to count the number of texts for each intent in the **train_df**."
   ]
  },
  {
   "cell_type": "code",
   "execution_count": 4,
   "metadata": {},
   "outputs": [
    {
     "data": {
      "text/plain": [
       "GetWeather              2000\n",
       "PlayMusic               2000\n",
       "BookRestaurant          1973\n",
       "SearchScreeningEvent    1959\n",
       "RateBook                1956\n",
       "SearchCreativeWork      1954\n",
       "AddToPlaylist           1942\n",
       "Name: intent, dtype: int64"
      ]
     },
     "execution_count": 4,
     "metadata": {},
     "output_type": "execute_result"
    }
   ],
   "source": [
    "train_df['intent'].value_counts()"
   ]
  },
  {
   "cell_type": "code",
   "execution_count": 5,
   "metadata": {
    "scrolled": false
   },
   "outputs": [
    {
     "data": {
      "text/plain": [
       "<matplotlib.axes._subplots.AxesSubplot at 0x1b87bb71108>"
      ]
     },
     "execution_count": 5,
     "metadata": {},
     "output_type": "execute_result"
    },
    {
     "data": {
      "image/png": "[encoded data removed]",
      "text/plain": [
       "<Figure size 432x288 with 1 Axes>"
      ]
     },
     "metadata": {
      "needs_background": "light"
     },
     "output_type": "display_data"
    }
   ],
   "source": [
    "# YOUR CODE HERE\n",
    "(train_df['intent'].value_counts()).plot.bar()"
   ]
  },
  {
   "cell_type": "markdown",
   "metadata": {},
   "source": [
    "Plot a bar graph to count the number of texts for each intent in the **test_df**."
   ]
  },
  {
   "cell_type": "code",
   "execution_count": 6,
   "metadata": {},
   "outputs": [
    {
     "data": {
      "text/plain": [
       "GetWeather              100\n",
       "AddToPlaylist           100\n",
       "RateBook                100\n",
       "PlayMusic               100\n",
       "BookRestaurant          100\n",
       "SearchScreeningEvent    100\n",
       "SearchCreativeWork      100\n",
       "Name: intent, dtype: int64"
      ]
     },
     "execution_count": 6,
     "metadata": {},
     "output_type": "execute_result"
    }
   ],
   "source": [
    "test_df['intent'].value_counts()"
   ]
  },
  {
   "cell_type": "code",
   "execution_count": 7,
   "metadata": {
    "scrolled": false
   },
   "outputs": [
    {
     "data": {
      "text/plain": [
       "<matplotlib.axes._subplots.AxesSubplot at 0x1b87dd8e948>"
      ]
     },
     "execution_count": 7,
     "metadata": {},
     "output_type": "execute_result"
    },
    {
     "data": {
      "image/png": "[encoded data removed]",
      "text/plain": [
       "<Figure size 432x288 with 1 Axes>"
      ]
     },
     "metadata": {
      "needs_background": "light"
     },
     "output_type": "display_data"
    }
   ],
   "source": [
    "# YOUR CODE HERE\n",
    "(test_df['intent'].value_counts()).plot.bar()"
   ]
  },
  {
   "cell_type": "markdown",
   "metadata": {},
   "source": [
    "**Quizz**: Is the train set balanced or imbalanced?\n",
    "<br>\n",
    "**Your answer**:"
   ]
  },
  {
   "cell_type": "markdown",
   "metadata": {},
   "source": [
    "### Look at the data\n",
    "Now let's look at a few examples in the data to get a sense of what the data is about."
   ]
  },
  {
   "cell_type": "markdown",
   "metadata": {},
   "source": [
    "Print the first 30 examples in the **train_df**"
   ]
  },
  {
   "cell_type": "code",
   "execution_count": 8,
   "metadata": {
    "scrolled": true
   },
   "outputs": [
    {
     "data": {
      "text/html": [
       "<div>\n",
       "<style scoped>\n",
       "    .dataframe tbody tr th:only-of-type {\n",
       "        vertical-align: middle;\n",
       "    }\n",
       "\n",
       "    .dataframe tbody tr th {\n",
       "        vertical-align: top;\n",
       "    }\n",
       "\n",
       "    .dataframe thead th {\n",
       "        text-align: right;\n",
       "    }\n",
       "</style>\n",
       "<table border=\"1\" class=\"dataframe\">\n",
       "  <thead>\n",
       "    <tr style=\"text-align: right;\">\n",
       "      <th></th>\n",
       "      <th>intent</th>\n",
       "      <th>text</th>\n",
       "    </tr>\n",
       "  </thead>\n",
       "  <tbody>\n",
       "    <tr>\n",
       "      <th>12353</th>\n",
       "      <td>SearchScreeningEvent</td>\n",
       "      <td>movie schedule at Speakeasy Theaters</td>\n",
       "    </tr>\n",
       "    <tr>\n",
       "      <th>10554</th>\n",
       "      <td>SearchCreativeWork</td>\n",
       "      <td>I want to watch Escape the Fate discography</td>\n",
       "    </tr>\n",
       "    <tr>\n",
       "      <th>12414</th>\n",
       "      <td>SearchScreeningEvent</td>\n",
       "      <td>when is Our Story showing next at North Americ...</td>\n",
       "    </tr>\n",
       "    <tr>\n",
       "      <th>11545</th>\n",
       "      <td>SearchCreativeWork</td>\n",
       "      <td>find a picture called How Much Wood Would a Wo...</td>\n",
       "    </tr>\n",
       "    <tr>\n",
       "      <th>8313</th>\n",
       "      <td>RateBook</td>\n",
       "      <td>Can you give this textbook a 2 out of 6?</td>\n",
       "    </tr>\n",
       "    <tr>\n",
       "      <th>2999</th>\n",
       "      <td>BookRestaurant</td>\n",
       "      <td>I want to take four friends to the pub for som...</td>\n",
       "    </tr>\n",
       "    <tr>\n",
       "      <th>9118</th>\n",
       "      <td>RateBook</td>\n",
       "      <td>give 5 stars to this book</td>\n",
       "    </tr>\n",
       "    <tr>\n",
       "      <th>1231</th>\n",
       "      <td>AddToPlaylist</td>\n",
       "      <td>add the song to my the funny thing about footb...</td>\n",
       "    </tr>\n",
       "    <tr>\n",
       "      <th>1574</th>\n",
       "      <td>AddToPlaylist</td>\n",
       "      <td>Add Falling Stars to my Intense Studying</td>\n",
       "    </tr>\n",
       "    <tr>\n",
       "      <th>4361</th>\n",
       "      <td>GetWeather</td>\n",
       "      <td>is it going to blizzard at my current position</td>\n",
       "    </tr>\n",
       "    <tr>\n",
       "      <th>8724</th>\n",
       "      <td>RateBook</td>\n",
       "      <td>I give The Elegant Universe five out of 6 stars</td>\n",
       "    </tr>\n",
       "    <tr>\n",
       "      <th>4697</th>\n",
       "      <td>GetWeather</td>\n",
       "      <td>What is the weather forecast in Spaulding Morocco</td>\n",
       "    </tr>\n",
       "    <tr>\n",
       "      <th>5733</th>\n",
       "      <td>GetWeather</td>\n",
       "      <td>Book a restaurant 1 hour from now in Dorcheste...</td>\n",
       "    </tr>\n",
       "    <tr>\n",
       "      <th>13385</th>\n",
       "      <td>SearchScreeningEvent</td>\n",
       "      <td>I'd like to watch films in 23 hours in the nei...</td>\n",
       "    </tr>\n",
       "    <tr>\n",
       "      <th>99</th>\n",
       "      <td>AddToPlaylist</td>\n",
       "      <td>put this album into becky's infinite indie fol...</td>\n",
       "    </tr>\n",
       "    <tr>\n",
       "      <th>5149</th>\n",
       "      <td>GetWeather</td>\n",
       "      <td>What will the weather be in Deer River?</td>\n",
       "    </tr>\n",
       "    <tr>\n",
       "      <th>9006</th>\n",
       "      <td>RateBook</td>\n",
       "      <td>A Conspiracy of Paper deserves a solid 3</td>\n",
       "    </tr>\n",
       "    <tr>\n",
       "      <th>8300</th>\n",
       "      <td>RateBook</td>\n",
       "      <td>Rate Cotton Comes to Harlem a 2\\n</td>\n",
       "    </tr>\n",
       "    <tr>\n",
       "      <th>7005</th>\n",
       "      <td>PlayMusic</td>\n",
       "      <td>Play some Mike Burney on Google Music.</td>\n",
       "    </tr>\n",
       "    <tr>\n",
       "      <th>1369</th>\n",
       "      <td>AddToPlaylist</td>\n",
       "      <td>add Fred Knoblock to my lo-fi love playlist</td>\n",
       "    </tr>\n",
       "    <tr>\n",
       "      <th>8236</th>\n",
       "      <td>RateBook</td>\n",
       "      <td>rate Gray Mountain a zero</td>\n",
       "    </tr>\n",
       "    <tr>\n",
       "      <th>6048</th>\n",
       "      <td>PlayMusic</td>\n",
       "      <td>open the Canciones del Recuerdo playlist and p...</td>\n",
       "    </tr>\n",
       "    <tr>\n",
       "      <th>5454</th>\n",
       "      <td>GetWeather</td>\n",
       "      <td>Can you get the weather forecast for New Baden</td>\n",
       "    </tr>\n",
       "    <tr>\n",
       "      <th>12614</th>\n",
       "      <td>SearchScreeningEvent</td>\n",
       "      <td>When is Lake City playing at Dipson Theatres?</td>\n",
       "    </tr>\n",
       "    <tr>\n",
       "      <th>5310</th>\n",
       "      <td>GetWeather</td>\n",
       "      <td>Will it be raining one hundred thirty days fro...</td>\n",
       "    </tr>\n",
       "    <tr>\n",
       "      <th>5527</th>\n",
       "      <td>GetWeather</td>\n",
       "      <td>Will it be colder in Vermont?</td>\n",
       "    </tr>\n",
       "    <tr>\n",
       "      <th>6263</th>\n",
       "      <td>PlayMusic</td>\n",
       "      <td>Play a sixties song.</td>\n",
       "    </tr>\n",
       "    <tr>\n",
       "      <th>5747</th>\n",
       "      <td>GetWeather</td>\n",
       "      <td>I need the wather for next week in the Philipp...</td>\n",
       "    </tr>\n",
       "    <tr>\n",
       "      <th>237</th>\n",
       "      <td>AddToPlaylist</td>\n",
       "      <td>Please add Ruud Jolie to my playlist Guest Lis...</td>\n",
       "    </tr>\n",
       "    <tr>\n",
       "      <th>12150</th>\n",
       "      <td>SearchScreeningEvent</td>\n",
       "      <td>Which animated movies are playing in the neigh...</td>\n",
       "    </tr>\n",
       "  </tbody>\n",
       "</table>\n",
       "</div>"
      ],
      "text/plain": [
       "                     intent                                               text\n",
       "12353  SearchScreeningEvent               movie schedule at Speakeasy Theaters\n",
       "10554    SearchCreativeWork        I want to watch Escape the Fate discography\n",
       "12414  SearchScreeningEvent  when is Our Story showing next at North Americ...\n",
       "11545    SearchCreativeWork  find a picture called How Much Wood Would a Wo...\n",
       "8313               RateBook           Can you give this textbook a 2 out of 6?\n",
       "2999         BookRestaurant  I want to take four friends to the pub for som...\n",
       "9118               RateBook                          give 5 stars to this book\n",
       "1231          AddToPlaylist  add the song to my the funny thing about footb...\n",
       "1574          AddToPlaylist           Add Falling Stars to my Intense Studying\n",
       "4361             GetWeather     is it going to blizzard at my current position\n",
       "8724               RateBook    I give The Elegant Universe five out of 6 stars\n",
       "4697             GetWeather  What is the weather forecast in Spaulding Morocco\n",
       "5733             GetWeather  Book a restaurant 1 hour from now in Dorcheste...\n",
       "13385  SearchScreeningEvent  I'd like to watch films in 23 hours in the nei...\n",
       "99            AddToPlaylist  put this album into becky's infinite indie fol...\n",
       "5149             GetWeather            What will the weather be in Deer River?\n",
       "9006               RateBook           A Conspiracy of Paper deserves a solid 3\n",
       "8300               RateBook                  Rate Cotton Comes to Harlem a 2\\n\n",
       "7005              PlayMusic             Play some Mike Burney on Google Music.\n",
       "1369          AddToPlaylist        add Fred Knoblock to my lo-fi love playlist\n",
       "8236               RateBook                          rate Gray Mountain a zero\n",
       "6048              PlayMusic  open the Canciones del Recuerdo playlist and p...\n",
       "5454             GetWeather    Can you get the weather forecast for New Baden \n",
       "12614  SearchScreeningEvent      When is Lake City playing at Dipson Theatres?\n",
       "5310             GetWeather  Will it be raining one hundred thirty days fro...\n",
       "5527             GetWeather                      Will it be colder in Vermont?\n",
       "6263              PlayMusic                               Play a sixties song.\n",
       "5747             GetWeather  I need the wather for next week in the Philipp...\n",
       "237           AddToPlaylist  Please add Ruud Jolie to my playlist Guest Lis...\n",
       "12150  SearchScreeningEvent  Which animated movies are playing in the neigh..."
      ]
     },
     "execution_count": 8,
     "metadata": {},
     "output_type": "execute_result"
    }
   ],
   "source": [
    "# YOUR CODE HERE\n",
    "train_df.head(30)"
   ]
  },
  {
   "cell_type": "markdown",
   "metadata": {},
   "source": [
    "Print the first 20 examples in the **test_df**"
   ]
  },
  {
   "cell_type": "code",
   "execution_count": 9,
   "metadata": {
    "scrolled": true
   },
   "outputs": [
    {
     "data": {
      "text/html": [
       "<div>\n",
       "<style scoped>\n",
       "    .dataframe tbody tr th:only-of-type {\n",
       "        vertical-align: middle;\n",
       "    }\n",
       "\n",
       "    .dataframe tbody tr th {\n",
       "        vertical-align: top;\n",
       "    }\n",
       "\n",
       "    .dataframe thead th {\n",
       "        text-align: right;\n",
       "    }\n",
       "</style>\n",
       "<table border=\"1\" class=\"dataframe\">\n",
       "  <thead>\n",
       "    <tr style=\"text-align: right;\">\n",
       "      <th></th>\n",
       "      <th>intent</th>\n",
       "      <th>text</th>\n",
       "    </tr>\n",
       "  </thead>\n",
       "  <tbody>\n",
       "    <tr>\n",
       "      <th>27</th>\n",
       "      <td>AddToPlaylist</td>\n",
       "      <td>add this track to my Hands Up playlist</td>\n",
       "    </tr>\n",
       "    <tr>\n",
       "      <th>641</th>\n",
       "      <td>SearchScreeningEvent</td>\n",
       "      <td>what are the movie schedules in the neighborhood</td>\n",
       "    </tr>\n",
       "    <tr>\n",
       "      <th>152</th>\n",
       "      <td>BookRestaurant</td>\n",
       "      <td>Book me a table for 5 this year at Cherwell Bo...</td>\n",
       "    </tr>\n",
       "    <tr>\n",
       "      <th>302</th>\n",
       "      <td>PlayMusic</td>\n",
       "      <td>Play the newest melody on Last Fm by Eddie Vin...</td>\n",
       "    </tr>\n",
       "    <tr>\n",
       "      <th>541</th>\n",
       "      <td>SearchCreativeWork</td>\n",
       "      <td>Could you find the TV series The Approach</td>\n",
       "    </tr>\n",
       "    <tr>\n",
       "      <th>518</th>\n",
       "      <td>SearchCreativeWork</td>\n",
       "      <td>Please look up the TV series Parables for Wood...</td>\n",
       "    </tr>\n",
       "    <tr>\n",
       "      <th>351</th>\n",
       "      <td>PlayMusic</td>\n",
       "      <td>Play music from E-type.</td>\n",
       "    </tr>\n",
       "    <tr>\n",
       "      <th>191</th>\n",
       "      <td>BookRestaurant</td>\n",
       "      <td>book a party of five at Seagoville for 06:42</td>\n",
       "    </tr>\n",
       "    <tr>\n",
       "      <th>171</th>\n",
       "      <td>BookRestaurant</td>\n",
       "      <td>Book a reservation for five people for a tatar...</td>\n",
       "    </tr>\n",
       "    <tr>\n",
       "      <th>173</th>\n",
       "      <td>BookRestaurant</td>\n",
       "      <td>Book a reservation for ten at a restaurant in ...</td>\n",
       "    </tr>\n",
       "    <tr>\n",
       "      <th>578</th>\n",
       "      <td>SearchCreativeWork</td>\n",
       "      <td>Look for the album Wolves Within</td>\n",
       "    </tr>\n",
       "    <tr>\n",
       "      <th>566</th>\n",
       "      <td>SearchCreativeWork</td>\n",
       "      <td>Am looking for a book with the title Free to Play</td>\n",
       "    </tr>\n",
       "    <tr>\n",
       "      <th>524</th>\n",
       "      <td>SearchCreativeWork</td>\n",
       "      <td>Please find me Phineas Redux.</td>\n",
       "    </tr>\n",
       "    <tr>\n",
       "      <th>531</th>\n",
       "      <td>SearchCreativeWork</td>\n",
       "      <td>Look for the television show Meet the Prince</td>\n",
       "    </tr>\n",
       "    <tr>\n",
       "      <th>390</th>\n",
       "      <td>PlayMusic</td>\n",
       "      <td>Play some blues britânico.</td>\n",
       "    </tr>\n",
       "    <tr>\n",
       "      <th>64</th>\n",
       "      <td>AddToPlaylist</td>\n",
       "      <td>Add the artist to my dishwashing playlist.</td>\n",
       "    </tr>\n",
       "    <tr>\n",
       "      <th>440</th>\n",
       "      <td>RateBook</td>\n",
       "      <td>rate this current album 0 stars</td>\n",
       "    </tr>\n",
       "    <tr>\n",
       "      <th>240</th>\n",
       "      <td>GetWeather</td>\n",
       "      <td>What will the weather be in nov. in Brookneal?</td>\n",
       "    </tr>\n",
       "    <tr>\n",
       "      <th>143</th>\n",
       "      <td>BookRestaurant</td>\n",
       "      <td>I need a table for 4 in Saint Helena at Settha...</td>\n",
       "    </tr>\n",
       "    <tr>\n",
       "      <th>52</th>\n",
       "      <td>AddToPlaylist</td>\n",
       "      <td>add the artist Pete Murray to my relaxing play...</td>\n",
       "    </tr>\n",
       "  </tbody>\n",
       "</table>\n",
       "</div>"
      ],
      "text/plain": [
       "                   intent                                               text\n",
       "27          AddToPlaylist             add this track to my Hands Up playlist\n",
       "641  SearchScreeningEvent   what are the movie schedules in the neighborhood\n",
       "152        BookRestaurant  Book me a table for 5 this year at Cherwell Bo...\n",
       "302             PlayMusic  Play the newest melody on Last Fm by Eddie Vin...\n",
       "541    SearchCreativeWork          Could you find the TV series The Approach\n",
       "518    SearchCreativeWork  Please look up the TV series Parables for Wood...\n",
       "351             PlayMusic                            Play music from E-type.\n",
       "191        BookRestaurant       book a party of five at Seagoville for 06:42\n",
       "171        BookRestaurant  Book a reservation for five people for a tatar...\n",
       "173        BookRestaurant  Book a reservation for ten at a restaurant in ...\n",
       "578    SearchCreativeWork                   Look for the album Wolves Within\n",
       "566    SearchCreativeWork  Am looking for a book with the title Free to Play\n",
       "524    SearchCreativeWork                      Please find me Phineas Redux.\n",
       "531    SearchCreativeWork       Look for the television show Meet the Prince\n",
       "390             PlayMusic                         Play some blues britânico.\n",
       "64          AddToPlaylist         Add the artist to my dishwashing playlist.\n",
       "440              RateBook                    rate this current album 0 stars\n",
       "240            GetWeather     What will the weather be in nov. in Brookneal?\n",
       "143        BookRestaurant  I need a table for 4 in Saint Helena at Settha...\n",
       "52          AddToPlaylist  add the artist Pete Murray to my relaxing play..."
      ]
     },
     "execution_count": 9,
     "metadata": {},
     "output_type": "execute_result"
    }
   ],
   "source": [
    "# YOUR CODE HERE\n",
    "test_df.head(20)"
   ]
  },
  {
   "cell_type": "markdown",
   "metadata": {},
   "source": [
    "### Preprocess the data\n",
    "Complete the cell below to preprocess the texts. Lower case the texts and remove punctuations from the texts.\n",
    "<br>\n",
    "You should use the **translator** variable"
   ]
  },
  {
   "cell_type": "code",
   "execution_count": 10,
   "metadata": {},
   "outputs": [],
   "source": [
    "import string\n",
    "\n",
    "translator = str.maketrans('', '', string.punctuation)\n",
    "\n",
    "def pre_process(text):\n",
    "    \"\"\"\n",
    "        :param text: A user input text\n",
    "        :return: The preprocessed text\n",
    "    \"\"\"\n",
    "    # YOUR CODE HERE\n",
    "    return (text.lower()).translate(translator)\n",
    "\n",
    "train_df[\"text\"] = train_df[\"text\"].apply(pre_process)\n",
    "test_df[\"text\"] = test_df[\"text\"].apply(pre_process)"
   ]
  },
  {
   "cell_type": "markdown",
   "metadata": {},
   "source": [
    "Let's have a quick look at our texts again."
   ]
  },
  {
   "cell_type": "code",
   "execution_count": 11,
   "metadata": {
    "scrolled": false
   },
   "outputs": [
    {
     "data": {
      "text/html": [
       "<div>\n",
       "<style scoped>\n",
       "    .dataframe tbody tr th:only-of-type {\n",
       "        vertical-align: middle;\n",
       "    }\n",
       "\n",
       "    .dataframe tbody tr th {\n",
       "        vertical-align: top;\n",
       "    }\n",
       "\n",
       "    .dataframe thead th {\n",
       "        text-align: right;\n",
       "    }\n",
       "</style>\n",
       "<table border=\"1\" class=\"dataframe\">\n",
       "  <thead>\n",
       "    <tr style=\"text-align: right;\">\n",
       "      <th></th>\n",
       "      <th>intent</th>\n",
       "      <th>text</th>\n",
       "    </tr>\n",
       "  </thead>\n",
       "  <tbody>\n",
       "    <tr>\n",
       "      <th>12353</th>\n",
       "      <td>SearchScreeningEvent</td>\n",
       "      <td>movie schedule at speakeasy theaters</td>\n",
       "    </tr>\n",
       "    <tr>\n",
       "      <th>10554</th>\n",
       "      <td>SearchCreativeWork</td>\n",
       "      <td>i want to watch escape the fate discography</td>\n",
       "    </tr>\n",
       "    <tr>\n",
       "      <th>12414</th>\n",
       "      <td>SearchScreeningEvent</td>\n",
       "      <td>when is our story showing next at north americ...</td>\n",
       "    </tr>\n",
       "    <tr>\n",
       "      <th>11545</th>\n",
       "      <td>SearchCreativeWork</td>\n",
       "      <td>find a picture called how much wood would a wo...</td>\n",
       "    </tr>\n",
       "    <tr>\n",
       "      <th>8313</th>\n",
       "      <td>RateBook</td>\n",
       "      <td>can you give this textbook a 2 out of 6</td>\n",
       "    </tr>\n",
       "  </tbody>\n",
       "</table>\n",
       "</div>"
      ],
      "text/plain": [
       "                     intent                                               text\n",
       "12353  SearchScreeningEvent               movie schedule at speakeasy theaters\n",
       "10554    SearchCreativeWork        i want to watch escape the fate discography\n",
       "12414  SearchScreeningEvent  when is our story showing next at north americ...\n",
       "11545    SearchCreativeWork  find a picture called how much wood would a wo...\n",
       "8313               RateBook            can you give this textbook a 2 out of 6"
      ]
     },
     "execution_count": 11,
     "metadata": {},
     "output_type": "execute_result"
    }
   ],
   "source": [
    "train_df.head()"
   ]
  },
  {
   "cell_type": "code",
   "execution_count": 12,
   "metadata": {
    "scrolled": true
   },
   "outputs": [
    {
     "data": {
      "text/html": [
       "<div>\n",
       "<style scoped>\n",
       "    .dataframe tbody tr th:only-of-type {\n",
       "        vertical-align: middle;\n",
       "    }\n",
       "\n",
       "    .dataframe tbody tr th {\n",
       "        vertical-align: top;\n",
       "    }\n",
       "\n",
       "    .dataframe thead th {\n",
       "        text-align: right;\n",
       "    }\n",
       "</style>\n",
       "<table border=\"1\" class=\"dataframe\">\n",
       "  <thead>\n",
       "    <tr style=\"text-align: right;\">\n",
       "      <th></th>\n",
       "      <th>intent</th>\n",
       "      <th>text</th>\n",
       "    </tr>\n",
       "  </thead>\n",
       "  <tbody>\n",
       "    <tr>\n",
       "      <th>27</th>\n",
       "      <td>AddToPlaylist</td>\n",
       "      <td>add this track to my hands up playlist</td>\n",
       "    </tr>\n",
       "    <tr>\n",
       "      <th>641</th>\n",
       "      <td>SearchScreeningEvent</td>\n",
       "      <td>what are the movie schedules in the neighborhood</td>\n",
       "    </tr>\n",
       "    <tr>\n",
       "      <th>152</th>\n",
       "      <td>BookRestaurant</td>\n",
       "      <td>book me a table for 5 this year at cherwell bo...</td>\n",
       "    </tr>\n",
       "    <tr>\n",
       "      <th>302</th>\n",
       "      <td>PlayMusic</td>\n",
       "      <td>play the newest melody on last fm by eddie vinson</td>\n",
       "    </tr>\n",
       "    <tr>\n",
       "      <th>541</th>\n",
       "      <td>SearchCreativeWork</td>\n",
       "      <td>could you find the tv series the approach</td>\n",
       "    </tr>\n",
       "  </tbody>\n",
       "</table>\n",
       "</div>"
      ],
      "text/plain": [
       "                   intent                                               text\n",
       "27          AddToPlaylist             add this track to my hands up playlist\n",
       "641  SearchScreeningEvent   what are the movie schedules in the neighborhood\n",
       "152        BookRestaurant  book me a table for 5 this year at cherwell bo...\n",
       "302             PlayMusic  play the newest melody on last fm by eddie vinson\n",
       "541    SearchCreativeWork          could you find the tv series the approach"
      ]
     },
     "execution_count": 12,
     "metadata": {},
     "output_type": "execute_result"
    }
   ],
   "source": [
    "test_df.head()"
   ]
  },
  {
   "cell_type": "markdown",
   "metadata": {},
   "source": [
    "## Choosing the model\n",
    "There is no right way to choose the perfect model for a machine learning problem. We have to try them out to see what is the best fit for our problems. As we have discussed in previous sections, the faster you try the better you make progress. Because this is a text classification problem, so let's use our experience with text classification problems. First, we will try out a simple **Logistic Regression** model with **tfidf** as a baseline and then use **cross-validation** to see if we can improve our model. After that, we will try **Feed Forward Neural Network** with **word embedding** to see what happens. We will introduce **word embedding** in later sections for now just think of **word embedding** is a way to represent texts as vectors for training with **Neural Network** more easily."
   ]
  },
  {
   "cell_type": "markdown",
   "metadata": {},
   "source": [
    "## Logistic Regression with tfidf\n",
    "At this point, you are probably confident with sklearn so, in this section, we just outline some steps and give you some tips then you write all the code yourself."
   ]
  },
  {
   "cell_type": "markdown",
   "metadata": {},
   "source": [
    "### Import libs that you need here"
   ]
  },
  {
   "cell_type": "code",
   "execution_count": 13,
   "metadata": {
    "scrolled": true
   },
   "outputs": [],
   "source": [
    "# Import libs here\n",
    "# YOUR CODE HERE\n",
    "from sklearn.feature_extraction.text import TfidfVectorizer\n",
    "from sklearn.linear_model import LogisticRegression"
   ]
  },
  {
   "cell_type": "markdown",
   "metadata": {},
   "source": [
    "### Train tfidf vectorizer and transform texts to vectors\n",
    "You should pay attention to the **ngram_range** parameter when you create the vectorizer."
   ]
  },
  {
   "cell_type": "code",
   "execution_count": 14,
   "metadata": {},
   "outputs": [],
   "source": [
    "# YOUR CODE HERE\n",
    "# Create the vectorizer\n",
    "vectorizer = TfidfVectorizer(ngram_range=(1, 2))\n",
    "# fit and transform the train data\n",
    "train_matrix = vectorizer.fit_transform(train_df['text'])\n",
    "# transform the test data\n",
    "test_matrix = vectorizer.transform(test_df['text'])"
   ]
  },
  {
   "cell_type": "markdown",
   "metadata": {},
   "source": [
    "### Create and train the model\n",
    "You should pay attention to the **multi_class**, **solver**, **max_iter** parameters."
   ]
  },
  {
   "cell_type": "code",
   "execution_count": 15,
   "metadata": {
    "scrolled": true
   },
   "outputs": [
    {
     "data": {
      "text/plain": [
       "LogisticRegression(C=1.0, class_weight=None, dual=False, fit_intercept=True,\n",
       "                   intercept_scaling=1, l1_ratio=None, max_iter=1000,\n",
       "                   multi_class='auto', n_jobs=None, penalty='l2',\n",
       "                   random_state=None, solver='lbfgs', tol=0.0001, verbose=0,\n",
       "                   warm_start=False)"
      ]
     },
     "execution_count": 15,
     "metadata": {},
     "output_type": "execute_result"
    }
   ],
   "source": [
    "# YOUR CODE HERE\n",
    "# Create and train the model here\n",
    "model = LogisticRegression(max_iter=1000)\n",
    "model.fit(train_matrix, train_df['intent'])"
   ]
  },
  {
   "cell_type": "markdown",
   "metadata": {},
   "source": [
    "### Evaluate the model\n",
    "We use **f1** for this problem. For convenience, you should use the **classification_report** from sklearn.\n",
    "<br>\n",
    "YOU MUST output precision, recall, f1 for each class and overall for all classes."
   ]
  },
  {
   "cell_type": "code",
   "execution_count": 16,
   "metadata": {},
   "outputs": [
    {
     "name": "stdout",
     "output_type": "stream",
     "text": [
      "                      precision    recall  f1-score   support\n",
      "\n",
      "       AddToPlaylist       0.98      1.00      0.99       100\n",
      "      BookRestaurant       0.98      1.00      0.99       100\n",
      "          GetWeather       0.99      0.96      0.97       100\n",
      "           PlayMusic       1.00      0.97      0.98       100\n",
      "            RateBook       1.00      1.00      1.00       100\n",
      "  SearchCreativeWork       0.93      0.99      0.96       100\n",
      "SearchScreeningEvent       0.97      0.93      0.95       100\n",
      "\n",
      "            accuracy                           0.98       700\n",
      "           macro avg       0.98      0.98      0.98       700\n",
      "        weighted avg       0.98      0.98      0.98       700\n",
      "\n"
     ]
    }
   ],
   "source": [
    "# YOUR CODE HERE\n",
    "# Evaluate your model here\n",
    "from sklearn.metrics import classification_report\n",
    "\n",
    "y_true = test_df['intent']\n",
    "y_pred = model.predict(test_matrix)\n",
    "print(classification_report(y_true, y_pred))"
   ]
  },
  {
   "cell_type": "markdown",
   "metadata": {},
   "source": [
    "If you have implemented correctly, you should get about **0.98** f1 score. It is really high though :))."
   ]
  },
  {
   "cell_type": "markdown",
   "metadata": {},
   "source": [
    "## Cross-validation with Logistic Regression\n",
    "Let's tune some parameters using cross-validation to see if we can get any better. You should tune the **C** parameter."
   ]
  },
  {
   "cell_type": "markdown",
   "metadata": {},
   "source": [
    "### Create and train the model\n",
    "You should use the **GridSearchCV** from sklearn."
   ]
  },
  {
   "cell_type": "code",
   "execution_count": 17,
   "metadata": {},
   "outputs": [
    {
     "data": {
      "text/plain": [
       "GridSearchCV(cv=None, error_score=nan,\n",
       "             estimator=LogisticRegression(C=1.0, class_weight=None, dual=False,\n",
       "                                          fit_intercept=True,\n",
       "                                          intercept_scaling=1, l1_ratio=None,\n",
       "                                          max_iter=1000, multi_class='auto',\n",
       "                                          n_jobs=None, penalty='l2',\n",
       "                                          random_state=None, solver='lbfgs',\n",
       "                                          tol=0.0001, verbose=0,\n",
       "                                          warm_start=False),\n",
       "             iid='deprecated', n_jobs=None,\n",
       "             param_grid={'C': [0.01, 0.05, 0.5, 0.8, 1, 1.2, 1.4, 2, 5, 10]},\n",
       "             pre_dispatch='2*n_jobs', refit=True, return_train_score=False,\n",
       "             scoring=None, verbose=0)"
      ]
     },
     "execution_count": 17,
     "metadata": {},
     "output_type": "execute_result"
    }
   ],
   "source": [
    "# YOUR CODE HERE\n",
    "# Create the model\n",
    "from sklearn.model_selection import GridSearchCV\n",
    "\n",
    "model_search = LogisticRegression(max_iter=1000)\n",
    "# Create tuning parameters\n",
    "tuning_parameters = {'C': [0.01, 0.05, 0.5, 0.8, 1, 1.2, 1.4, 2, 5, 10]}\n",
    "# Create GridSearchCV\n",
    "clf = GridSearchCV(model_search, tuning_parameters)\n",
    "# Train the model\n",
    "clf.fit(train_matrix, train_df['intent'])"
   ]
  },
  {
   "cell_type": "markdown",
   "metadata": {},
   "source": [
    "### Evaluate the model"
   ]
  },
  {
   "cell_type": "code",
   "execution_count": 18,
   "metadata": {
    "scrolled": false
   },
   "outputs": [
    {
     "name": "stdout",
     "output_type": "stream",
     "text": [
      "                      precision    recall  f1-score   support\n",
      "\n",
      "       AddToPlaylist       0.98      1.00      0.99       100\n",
      "      BookRestaurant       0.99      1.00      1.00       100\n",
      "          GetWeather       0.99      0.97      0.98       100\n",
      "           PlayMusic       1.00      0.97      0.98       100\n",
      "            RateBook       1.00      1.00      1.00       100\n",
      "  SearchCreativeWork       0.93      1.00      0.97       100\n",
      "SearchScreeningEvent       0.98      0.93      0.95       100\n",
      "\n",
      "            accuracy                           0.98       700\n",
      "           macro avg       0.98      0.98      0.98       700\n",
      "        weighted avg       0.98      0.98      0.98       700\n",
      "\n"
     ]
    }
   ],
   "source": [
    "# YOUR CODE HERE\n",
    "# Evaluate the model\n",
    "y_true = test_df['intent']\n",
    "y_pred = clf.predict(test_matrix)\n",
    "print(classification_report(y_true, y_pred))"
   ]
  },
  {
   "cell_type": "markdown",
   "metadata": {},
   "source": [
    "You should get around **0.98** f1 score. Our baseline Logistic Regression is pretty good though so, with that, we can say that our dataset is well separated."
   ]
  },
  {
   "cell_type": "markdown",
   "metadata": {},
   "source": [
    "## Word embedding and Neural Network\n",
    "In this section we will use **word embedding** to represent user input texts as vectors then we will use **Neural Network** to train our classification model. You might ask, what are **word embeddings** exactly? Loosely speaking, they are vector representations of a particular word. But, why do we need them and can we just use **tfidf** to represent texts as vectors? Well, one disadvantage of **tfidf** or **bag of word** is that the feature dimension could be really large and sparse (sparse in the context of vector mean vectors with a lot of zero values). For our problem, the feature dimension size is **48769** (for ngram_range=(1,2)), meanwhile, we only have **13784** examples and the dimension size increases when the vocabulary size increases. That is very inefficient when training with **Neural Network** in terms of computation. When we use **word embedding**, the vector size is fixed no matter the vocabulary size and in practice, the vector size is usually around 100 - 300. Another advantage of **word embedding** is that it is capable of capturing the context of a word in a document, semantic and syntactic similarity, relation with other words. But, how do we generate them? There are many algorithms can be used for producing **word embedding** like **Word2vec**, **Glove**, **Fasttext**, .... They all are unsupervised machine learning algorithms that are usually trained on really large text corpora. Learning how those algorithms work is beyond the scope of this course. All you should care about now is that some people have already trained those **word embedding** algorithms on very large text corpora, they produce us a lookup table that maps a word to a vector. In practice, the lookup table usually contains millions of words or even billion of words. We will use those pre-trained **word embedding** models in later sections to represent our words as vectors and then use those vectors to feed into our **Neural Network** model."
   ]
  },
  {
   "cell_type": "markdown",
   "metadata": {},
   "source": [
    "### Using spaCy for word embedding\n",
    "We will use spaCy (https://spacy.io/) which is a python library for solving **Natural Language Process (NLP)** tasks more easily. spaCy offers a lot of features but we only use the pre-trained word vectors feature to look up the embedding vector for an English word. First, run the cell below to download the **en_core_web_lg** model for spaCy (you only need to download it once). The **en_core_web_lg** model from spaCy (https://spacy.io/models/en#en_core_web_lg) contains many English models for different tasks. It includes a pre-trained **Glove** word embedding model which has 685k keys, 685k unique vectors (300 dimensions)."
   ]
  },
  {
   "cell_type": "code",
   "execution_count": 19,
   "metadata": {},
   "outputs": [],
   "source": [
    "# On Windows, remember to run Anaconda prompt with Administrator to make sure this command works probably\n",
    "# !python -m spacy download en_core_web_lg"
   ]
  },
  {
   "cell_type": "markdown",
   "metadata": {},
   "source": [
    "### Import spaCy model\n",
    "Run the cell below to load the **en_core_web_lg** model from spaCy"
   ]
  },
  {
   "cell_type": "markdown",
   "metadata": {},
   "source": [
    "**NOTE:** If you have trouble loading the **en_core_web_lg** model on Google colab. Please check this question [Unable to load the spacy model 'en_core_web_lg' on Google colab](https://stackoverflow.com/questions/56927602/unable-to-load-the-spacy-model-en-core-web-lg-on-google-colab) on stackoverflow."
   ]
  },
  {
   "cell_type": "code",
   "execution_count": 20,
   "metadata": {},
   "outputs": [],
   "source": [
    "import spacy\n",
    "\n",
    "nlp = spacy.load(\"en_core_web_lg\")"
   ]
  },
  {
   "cell_type": "markdown",
   "metadata": {},
   "source": [
    "### Word embedding examples\n",
    "The example below shows you how to get the embedding vector for the word **cat**."
   ]
  },
  {
   "cell_type": "code",
   "execution_count": 21,
   "metadata": {
    "scrolled": true
   },
   "outputs": [
    {
     "data": {
      "text/plain": [
       "array([-0.15067  , -0.024468 , -0.23368  , -0.23378  , -0.18382  ,\n",
       "        0.32711  , -0.22084  , -0.28777  ,  0.12759  ,  1.1656   ,\n",
       "       -0.64163  , -0.098455 , -0.62397  ,  0.010431 , -0.25653  ,\n",
       "        0.31799  ,  0.037779 ,  1.1904   , -0.17714  , -0.2595   ,\n",
       "       -0.31461  ,  0.038825 , -0.15713  , -0.13484  ,  0.36936  ,\n",
       "       -0.30562  , -0.40619  , -0.38965  ,  0.3686   ,  0.013963 ,\n",
       "       -0.6895   ,  0.004066 , -0.1367   ,  0.32564  ,  0.24688  ,\n",
       "       -0.14011  ,  0.53889  , -0.80441  , -0.1777   , -0.12922  ,\n",
       "        0.16303  ,  0.14917  , -0.068429 , -0.33922  ,  0.18495  ,\n",
       "       -0.082544 , -0.46892  ,  0.39581  , -0.13742  , -0.35132  ,\n",
       "        0.22223  , -0.144    , -0.048287 ,  0.3379   , -0.31916  ,\n",
       "        0.20526  ,  0.098624 , -0.23877  ,  0.045338 ,  0.43941  ,\n",
       "        0.030385 , -0.013821 , -0.093273 , -0.18178  ,  0.19438  ,\n",
       "       -0.3782   ,  0.70144  ,  0.16236  ,  0.0059111,  0.024898 ,\n",
       "       -0.13613  , -0.11425  , -0.31598  , -0.14209  ,  0.028194 ,\n",
       "        0.5419   , -0.42413  , -0.599    ,  0.24976  , -0.27003  ,\n",
       "        0.14964  ,  0.29287  , -0.31281  ,  0.16543  , -0.21045  ,\n",
       "       -0.4408   ,  1.2174   ,  0.51236  ,  0.56209  ,  0.14131  ,\n",
       "        0.092514 ,  0.71396  , -0.021051 , -0.33704  , -0.20275  ,\n",
       "       -0.36181  ,  0.22055  , -0.25665  ,  0.28425  , -0.16968  ,\n",
       "        0.058029 ,  0.61182  ,  0.31576  , -0.079185 ,  0.35538  ,\n",
       "       -0.51236  ,  0.4235   , -0.30033  , -0.22376  ,  0.15223  ,\n",
       "       -0.048292 ,  0.23532  ,  0.46507  , -0.67579  , -0.32905  ,\n",
       "        0.08446  , -0.22123  , -0.045333 ,  0.34463  , -0.1455   ,\n",
       "       -0.18047  , -0.17887  ,  0.96879  , -1.0028   , -0.47343  ,\n",
       "        0.28542  ,  0.56382  , -0.33211  , -0.38275  , -0.2749   ,\n",
       "       -0.22955  , -0.24265  , -0.37689  ,  0.24822  ,  0.36941  ,\n",
       "        0.14651  , -0.37864  ,  0.31134  , -0.28449  ,  0.36948  ,\n",
       "       -2.8174   , -0.38319  , -0.022373 ,  0.56376  ,  0.40131  ,\n",
       "       -0.42131  , -0.11311  , -0.17317  ,  0.1411   , -0.13194  ,\n",
       "        0.18494  ,  0.097692 , -0.097341 , -0.23987  ,  0.16631  ,\n",
       "       -0.28556  ,  0.0038654,  0.53292  , -0.32367  , -0.38744  ,\n",
       "        0.27011  , -0.34181  , -0.27702  , -0.67279  , -0.10771  ,\n",
       "       -0.062189 , -0.24783  , -0.070884 , -0.20898  ,  0.062404 ,\n",
       "        0.022372 ,  0.13408  ,  0.1305   , -0.19546  , -0.46849  ,\n",
       "        0.77731  , -0.043978 ,  0.3827   , -0.23376  ,  1.0457   ,\n",
       "       -0.14371  , -0.3565   , -0.080713 , -0.31047  , -0.57822  ,\n",
       "       -0.28067  , -0.069678 ,  0.068929 , -0.16227  , -0.63934  ,\n",
       "       -0.62149  ,  0.11222  , -0.16969  , -0.54637  ,  0.49661  ,\n",
       "        0.46565  ,  0.088294 , -0.48496  ,  0.69263  , -0.068977 ,\n",
       "       -0.53709  ,  0.20802  , -0.42987  , -0.11921  ,  0.1174   ,\n",
       "       -0.18443  ,  0.43797  , -0.1236   ,  0.3607   , -0.19608  ,\n",
       "       -0.35366  ,  0.18808  , -0.5061   ,  0.14455  , -0.024368 ,\n",
       "       -0.10772  , -0.0115   ,  0.58634  , -0.054461 ,  0.0076487,\n",
       "       -0.056297 ,  0.27193  ,  0.23096  , -0.29296  , -0.24325  ,\n",
       "        0.10317  , -0.10014  ,  0.7089   ,  0.17402  , -0.0037509,\n",
       "       -0.46304  ,  0.11806  , -0.16457  , -0.38609  ,  0.14524  ,\n",
       "        0.098122 , -0.12352  , -0.1047   ,  0.39047  , -0.3063   ,\n",
       "       -0.65375  , -0.0044248, -0.033876 ,  0.037114 , -0.27472  ,\n",
       "        0.0053147,  0.30737  ,  0.12528  , -0.19527  , -0.16461  ,\n",
       "        0.087518 , -0.051107 , -0.16323  ,  0.521    ,  0.10822  ,\n",
       "       -0.060379 , -0.71735  , -0.064327 ,  0.37043  , -0.41054  ,\n",
       "       -0.2728   , -0.30217  ,  0.015771 , -0.43056  ,  0.35647  ,\n",
       "        0.17188  , -0.54598  , -0.21541  , -0.044889 , -0.10597  ,\n",
       "       -0.54391  ,  0.53908  ,  0.070938 ,  0.097839 ,  0.097908 ,\n",
       "        0.17805  ,  0.18995  ,  0.49962  , -0.18529  ,  0.051234 ,\n",
       "        0.019574 ,  0.24805  ,  0.3144   , -0.29304  ,  0.54235  ,\n",
       "        0.46672  ,  0.26017  , -0.44705  ,  0.28287  , -0.033345 ,\n",
       "       -0.33181  , -0.10902  , -0.023324 ,  0.2106   , -0.29633  ,\n",
       "        0.81506  ,  0.038524 ,  0.46004  ,  0.17187  , -0.29804  ],\n",
       "      dtype=float32)"
      ]
     },
     "execution_count": 21,
     "metadata": {},
     "output_type": "execute_result"
    }
   ],
   "source": [
    "nlp(\"cat\").vector"
   ]
  },
  {
   "cell_type": "markdown",
   "metadata": {},
   "source": [
    "A nice property of word embedding is that similar words (words appear in the same contexts) are usually grouped together. For example, the words **good** and **great** are often used in the same context (Have a **great** day, Have a **good** day) so, their embedding vectors are closed to each other than let's say **good** and **cat**. We can use cosine similarity to check the similarity between two vectors, spaCy already has the similarity function so, let's check it out."
   ]
  },
  {
   "cell_type": "code",
   "execution_count": 22,
   "metadata": {},
   "outputs": [
    {
     "name": "stdout",
     "output_type": "stream",
     "text": [
      "0.841670781054402\n",
      "0.2433478967733492\n"
     ]
    }
   ],
   "source": [
    "print(nlp(\"great\").similarity(nlp(\"good\")))\n",
    "print(nlp(\"great\").similarity(nlp(\"cat\")))"
   ]
  },
  {
   "cell_type": "markdown",
   "metadata": {},
   "source": [
    "As you can see the similarity between **great** and **good** is **0.84** meanwhile, the similarity between **great** and **cat** is only **0.24** so, you can feel that word embedding somehow can capture the semantics of words. We encourage you to play around with different words."
   ]
  },
  {
   "cell_type": "code",
   "execution_count": 23,
   "metadata": {},
   "outputs": [
    {
     "name": "stdout",
     "output_type": "stream",
     "text": [
      "0.7739192403324098\n",
      "0.7505455881628591\n",
      "0.47039188877751464\n"
     ]
    }
   ],
   "source": [
    "# Try here\n",
    "print(nlp(\"terrible\").similarity(nlp(\"bad\")))\n",
    "print(nlp(\"pet\").similarity(nlp(\"cat\")))\n",
    "print(nlp(\"human\").similarity(nlp(\"person\")))"
   ]
  },
  {
   "cell_type": "markdown",
   "metadata": {},
   "source": [
    "### Use word embbedding to represent texts as vectors\n",
    "We now can represent a single word as vector using word embedding but, how do we represent a sentence or paragraph as a vector so we can feed into our **Feedforward Neural Network**? A simple solution is that you can simply average the word embedding vectors of words in a paragraph to represent that paragraph. People also develop algorithms like **Doc2vec**, **Sent2vec**, ... to represent paragraphs as vectors but, that topic is beyond the scope of this course and in this section, we just use the averaging approach.\n",
    "<br>\n",
    "Complete the **average_vectors_text** function below to calculate the average vector representation for a user input text.\n",
    "<br>\n",
    "**Note**: Split the text using the space character to get the words."
   ]
  },
  {
   "cell_type": "code",
   "execution_count": 24,
   "metadata": {},
   "outputs": [],
   "source": [
    "def average_vectors_text(text):\n",
    "    \"\"\"\n",
    "        :param text: A user input text\n",
    "        :return: The average vector of word embedding vectors in the text input\n",
    "    \"\"\"\n",
    "    # YOUR CODE HERE\n",
    "    words = np.array([nlp(i).vector for i in text.split()])\n",
    "    return np.mean(words, axis=0)"
   ]
  },
  {
   "cell_type": "markdown",
   "metadata": {},
   "source": [
    "Apply the **average_vectors_text** function to the **text** columns of the **train_df** and **test_df** data frames to get **X_train_spacy** and **X_test_spacy**. The feature dimension size is now only 300.\n",
    "<br>\n",
    "**NOTE**: It might takes 15 - 20 minutes to run "
   ]
  },
  {
   "cell_type": "code",
   "execution_count": 25,
   "metadata": {},
   "outputs": [],
   "source": [
    "X_train_spacy = train_df[\"text\"].apply(average_vectors_text)\n",
    "X_test_spacy = test_df[\"text\"].apply(average_vectors_text)\n",
    "\n",
    "X_train_spacy = X_train_spacy.tolist()\n",
    "X_test_spacy = X_test_spacy.tolist()"
   ]
  },
  {
   "cell_type": "markdown",
   "metadata": {},
   "source": [
    "### Create and train the model\n",
    "Now create a **MLPClassifier** and train it on the **X_train_spacy** and **y_train**.\n",
    "<br>\n",
    "**NOTE**: You have to pick the parameters by yourself."
   ]
  },
  {
   "cell_type": "code",
   "execution_count": 26,
   "metadata": {
    "scrolled": false
   },
   "outputs": [
    {
     "data": {
      "text/plain": [
       "MLPClassifier(activation='relu', alpha=0.0001, batch_size='auto', beta_1=0.9,\n",
       "              beta_2=0.999, early_stopping=False, epsilon=1e-08,\n",
       "              hidden_layer_sizes=(100,), learning_rate='constant',\n",
       "              learning_rate_init=0.001, max_fun=15000, max_iter=300,\n",
       "              momentum=0.9, n_iter_no_change=10, nesterovs_momentum=True,\n",
       "              power_t=0.5, random_state=1, shuffle=True, solver='adam',\n",
       "              tol=0.0001, validation_fraction=0.1, verbose=False,\n",
       "              warm_start=False)"
      ]
     },
     "execution_count": 26,
     "metadata": {},
     "output_type": "execute_result"
    }
   ],
   "source": [
    "# YOUR CODE HERE\n",
    "# Create and train the neural network model\n",
    "from sklearn.neural_network import MLPClassifier\n",
    "\n",
    "clf_nn = MLPClassifier(random_state=1, max_iter=300)\n",
    "clf_nn.fit(X_train_spacy, train_df['intent'])"
   ]
  },
  {
   "cell_type": "markdown",
   "metadata": {},
   "source": [
    "### Evaluate the model\n",
    "Evaluate on the model on the **X_test_spacy** and **y_test**.\n",
    "<br>"
   ]
  },
  {
   "cell_type": "code",
   "execution_count": 27,
   "metadata": {
    "scrolled": true
   },
   "outputs": [
    {
     "name": "stdout",
     "output_type": "stream",
     "text": [
      "                      precision    recall  f1-score   support\n",
      "\n",
      "       AddToPlaylist       0.96      1.00      0.98       100\n",
      "      BookRestaurant       0.99      0.99      0.99       100\n",
      "          GetWeather       0.99      0.99      0.99       100\n",
      "           PlayMusic       1.00      0.96      0.98       100\n",
      "            RateBook       1.00      1.00      1.00       100\n",
      "  SearchCreativeWork       0.97      0.96      0.96       100\n",
      "SearchScreeningEvent       0.96      0.97      0.97       100\n",
      "\n",
      "            accuracy                           0.98       700\n",
      "           macro avg       0.98      0.98      0.98       700\n",
      "        weighted avg       0.98      0.98      0.98       700\n",
      "\n"
     ]
    }
   ],
   "source": [
    "# YOUR CODE HERE\n",
    "# Evaluate the model\n",
    "y_true = test_df['intent']\n",
    "y_pred = clf_nn.predict(X_test_spacy)\n",
    "print(classification_report(y_true, y_pred))"
   ]
  },
  {
   "cell_type": "markdown",
   "metadata": {},
   "source": [
    "If you have implemented correctly you should get around **0.98** f1 score."
   ]
  },
  {
   "cell_type": "markdown",
   "metadata": {},
   "source": [
    "## Error analysis\n",
    "Let's look at some of the examples that the models make mistakes to see if we can improve the models.\n",
    "<br>\n",
    "Complete the **print_mistake_samples** function below."
   ]
  },
  {
   "cell_type": "code",
   "execution_count": 28,
   "metadata": {},
   "outputs": [],
   "source": [
    "def print_mistake_samples(y, y_pred, df):\n",
    "    \"\"\" \n",
    "        :param y: The true labels\n",
    "        :param y_pred: The predicted labels\n",
    "        :param df: The dataframe (train_df/test_df)\n",
    "        \n",
    "        :return: None\n",
    "    \"\"\"\n",
    "    wrong_indices = (y != y_pred)  # YOUR CODE HERE\n",
    "    wrong_df = df.loc[wrong_indices, :].copy()\n",
    "    wrong_df[\"pred\"] = y_pred[wrong_indices]\n",
    "    \n",
    "    print (f\"Number of mistakes: {wrong_df.shape[0]}\")\n",
    "    print ('text, true, predict')\n",
    "    for i, row in wrong_df.iterrows():\n",
    "        print(f\"{row['text']}, {row['intent']}, {row['pred']}\")"
   ]
  },
  {
   "cell_type": "markdown",
   "metadata": {},
   "source": [
    "Print the mistakes by the simple Logistic Regression model"
   ]
  },
  {
   "cell_type": "code",
   "execution_count": 29,
   "metadata": {
    "scrolled": false
   },
   "outputs": [
    {
     "name": "stdout",
     "output_type": "stream",
     "text": [
      "Number of mistakes: 15\n",
      "text, true, predict\n",
      "where is belgium located, GetWeather, SearchScreeningEvent\n",
      "overcast on state holiday in pawling nature reserve  and neighboring places, GetWeather, BookRestaurant\n",
      "humidity not far from colorado city on november the 7th 2024, GetWeather, BookRestaurant\n",
      "i want to see medal for the general, SearchScreeningEvent, SearchCreativeWork\n",
      "can you put on like a hurricane by paul landers, PlayMusic, AddToPlaylist\n",
      "when is sunrise for ar, GetWeather, SearchScreeningEvent\n",
      "put what color is your sky by alana davis on the stereo, PlayMusic, AddToPlaylist\n",
      "i want to see jla adventures trapped in time, SearchScreeningEvent, SearchCreativeWork\n",
      "i want to see those kids from town when will it be showing, SearchScreeningEvent, GetWeather\n",
      "i want to see shattered image, SearchScreeningEvent, SearchCreativeWork\n",
      "i want to see fear chamber, SearchScreeningEvent, SearchCreativeWork\n",
      "where can i see the prime ministers the pioneers, SearchScreeningEvent, SearchCreativeWork\n",
      "find the movie splendor in the grass, SearchCreativeWork, SearchScreeningEvent\n",
      "i want to see outcast, SearchScreeningEvent, SearchCreativeWork\n",
      "live in lajoseph meyer please, PlayMusic, SearchCreativeWork\n"
     ]
    }
   ],
   "source": [
    "# YOUR CODE HERE\n",
    "y_true = test_df['intent']\n",
    "y_pred = model.predict(test_matrix)\n",
    "print_mistake_samples(y_true, y_pred, test_df)"
   ]
  },
  {
   "cell_type": "markdown",
   "metadata": {},
   "source": [
    "Print the mistakes by the cross-validation Logistic Regression model"
   ]
  },
  {
   "cell_type": "code",
   "execution_count": 30,
   "metadata": {
    "scrolled": true
   },
   "outputs": [
    {
     "name": "stdout",
     "output_type": "stream",
     "text": [
      "Number of mistakes: 13\n",
      "text, true, predict\n",
      "where is belgium located, GetWeather, SearchScreeningEvent\n",
      "humidity not far from colorado city on november the 7th 2024, GetWeather, BookRestaurant\n",
      "i want to see medal for the general, SearchScreeningEvent, SearchCreativeWork\n",
      "can you put on like a hurricane by paul landers, PlayMusic, AddToPlaylist\n",
      "when is sunrise for ar, GetWeather, SearchScreeningEvent\n",
      "put what color is your sky by alana davis on the stereo, PlayMusic, AddToPlaylist\n",
      "i want to see jla adventures trapped in time, SearchScreeningEvent, SearchCreativeWork\n",
      "i want to see those kids from town when will it be showing, SearchScreeningEvent, GetWeather\n",
      "i want to see shattered image, SearchScreeningEvent, SearchCreativeWork\n",
      "i want to see fear chamber, SearchScreeningEvent, SearchCreativeWork\n",
      "where can i see the prime ministers the pioneers, SearchScreeningEvent, SearchCreativeWork\n",
      "i want to see outcast, SearchScreeningEvent, SearchCreativeWork\n",
      "live in lajoseph meyer please, PlayMusic, SearchCreativeWork\n"
     ]
    }
   ],
   "source": [
    "# YOUR CODE HERE\n",
    "y_true = test_df['intent']\n",
    "y_pred = clf.predict(test_matrix)\n",
    "print_mistake_samples(y_true, y_pred, test_df)"
   ]
  },
  {
   "cell_type": "markdown",
   "metadata": {},
   "source": [
    "Print the mistakes by the Neural Network model"
   ]
  },
  {
   "cell_type": "code",
   "execution_count": 31,
   "metadata": {
    "scrolled": true
   },
   "outputs": [
    {
     "name": "stdout",
     "output_type": "stream",
     "text": [
      "Number of mistakes: 13\n",
      "text, true, predict\n",
      "please fine me the tv series now we are married, SearchCreativeWork, SearchScreeningEvent\n",
      "please look up and find me monty python live at the hollywood bowl, SearchCreativeWork, SearchScreeningEvent\n",
      "can you put on like a hurricane by paul landers, PlayMusic, AddToPlaylist\n",
      "play my black sabbath the dio years playlist, PlayMusic, AddToPlaylist\n",
      "when is sunrise for ar, GetWeather, SearchScreeningEvent\n",
      "i want to book oregon electric station in north city, BookRestaurant, GetWeather\n",
      "im looking for welcome to the canteen, SearchCreativeWork, BookRestaurant\n",
      "i want to see shattered image, SearchScreeningEvent, SearchCreativeWork\n",
      "i want to see outcast, SearchScreeningEvent, SearchCreativeWork\n",
      "live in lajoseph meyer please, PlayMusic, AddToPlaylist\n",
      "please tune into chieko ochis good music, PlayMusic, AddToPlaylist\n",
      "show me the schedule for rat rod rockers, SearchScreeningEvent, SearchCreativeWork\n",
      "find me the soundtrack live at the greek theatre, SearchCreativeWork, SearchScreeningEvent\n"
     ]
    }
   ],
   "source": [
    "# YOUR CODE HERE\n",
    "y_true = test_df['intent']\n",
    "y_pred = clf_nn.predict(X_test_spacy)\n",
    "print_mistake_samples(y_true, y_pred, test_df)"
   ]
  },
  {
   "cell_type": "markdown",
   "metadata": {},
   "source": [
    "Here are the few examples that all the models make mistakes on.\n",
    "<br>\n",
    "\"where is belgium located\": The correct label is **GetWeather** but, as you can see it is a question about finding where **belgium** is. It is not a \"GetWeather\" command that is kind of similar in the train set. I think the label is wrong for this sample.\n",
    "<br>\n",
    "\"can you put on like a hurricane by paul landers\": The correct label is **PlayMusic**. Here, the models are confused with the key word **put on**. In the train set many examples of the intent **AddToPlaylist** includes the keyword **put on** so, this example is really hard for machine learning models.\n",
    "<br>\n",
    "\"live in lajoseph meyer please\": The correct label is **PlayMusic**. Because of the word **please** is added at the end of the sentence so it becomes a \"PlayMusic\" command so, this example is clearly a really hard example for our models to figure it out.\n",
    "<br>\n",
    "Similarly, you can analyze by yourself to debug more about the models."
   ]
  },
  {
   "cell_type": "markdown",
   "metadata": {},
   "source": [
    "## Improving the models"
   ]
  },
  {
   "cell_type": "markdown",
   "metadata": {},
   "source": [
    "As you can see, we have achieved a pretty high score (around 0.98 f1) for this problem just using a simple **Logistic Regression** model and after analyzing errors, we saw that the models make mistakes on incorrectly labeled data and ambiguous samples so, for now, it is pretty hard to increase the score but, we encourage you to try your ideas to improve our models more."
   ]
  },
  {
   "cell_type": "markdown",
   "metadata": {},
   "source": [
    "## Deploy the models\n",
    "Let's assume you are working on a team that is building a virtual assistant and your job is building the intent recognition module. The input is a list of user input texts and the output is a list of corresponding intents.\n",
    "<br>\n",
    "Complete the **recognize_intents** function below.\n",
    "<br>\n",
    "**NOTE**: You should pay attention to the **threshold** parameter. If all predicted intents have probabilities lower than the **threshold**, please return **Fallback** intent."
   ]
  },
  {
   "cell_type": "code",
   "execution_count": 32,
   "metadata": {},
   "outputs": [],
   "source": [
    "def recognize_intents(texts, model, model_type, threshold, vectorizer=None):\n",
    "    \"\"\"\n",
    "        Recognize intents of user input texts\n",
    "        \n",
    "        :param text: A list of user input texts\n",
    "        :param model: A sklearn model\n",
    "        :param model_type: Either \"lg\" or \"nn\"\n",
    "        :param threshold: The predicted intents must have confidences equal or greater than this threshold\n",
    "        :param vectorizer: Vectorizer for transforming texts into vectors (only use when model_type == \"lg\")\n",
    "        \n",
    "        :return: A list of intents\n",
    "    \"\"\"\n",
    "    # YOUR CODE HERE\n",
    "    # Preprocess texts using the pre_process function\n",
    "   \n",
    "    \n",
    "    # Transforms texts into vectors corresponding to the model_type\n",
    "    if model_type == \"lg\": # use tfidf vectorizer here\n",
    "        test = vectorizer.transform([pre_process(text) for text in texts])\n",
    "        y_pred_proba = model.predict_proba(test)\n",
    "    elif model_type == \"nn\": # user word embedding here\n",
    "        test = [average_vectors_text(text) for text in texts]\n",
    "        y_pred_proba = model.predict_proba(test)\n",
    "    else:\n",
    "        raise Exception(f\"Not found {model_type} model_type\")\n",
    "    \n",
    "    # Predict intents and check the probability threshold\n",
    "    # You should use the predict_proba fucntion and the classes_ attribute\n",
    "    # from the model parameter\n",
    "    # If all intent probabilities below the threshold,\n",
    "    # please return the intent as \"Fallback\" for that user input text\n",
    "    y_pred = []\n",
    "    classes = model.classes_\n",
    "    for prob in (y_pred_proba >= threshold):\n",
    "        if np.max(prob) > 0:\n",
    "            y_pred.append(classes[np.argmax(prob)])\n",
    "        else:\n",
    "            y_pred.append('Fallback')\n",
    "    return y_pred"
   ]
  },
  {
   "cell_type": "markdown",
   "metadata": {},
   "source": [
    "Let's try it out."
   ]
  },
  {
   "cell_type": "code",
   "execution_count": 33,
   "metadata": {},
   "outputs": [],
   "source": [
    "input_texts = [\n",
    "    \"Play happy new year\",\n",
    "    \"What is the weather in Ha Noi?\",\n",
    "    \"Will it rain tomorow?\",\n",
    "    \"Add despacito to my favourite playlist.\",\n",
    "    \"What is your name?\",\n",
    "]"
   ]
  },
  {
   "cell_type": "markdown",
   "metadata": {},
   "source": [
    "Try your simple Logistic Regression with **0.7** threshold and tfidf vectorizer."
   ]
  },
  {
   "cell_type": "code",
   "execution_count": 34,
   "metadata": {},
   "outputs": [
    {
     "data": {
      "text/plain": [
       "['PlayMusic', 'GetWeather', 'GetWeather', 'AddToPlaylist', 'Fallback']"
      ]
     },
     "execution_count": 34,
     "metadata": {},
     "output_type": "execute_result"
    }
   ],
   "source": [
    "# YOUR CODE HERE\n",
    "recognize_intents(input_texts, model, 'lg', 0.7, vectorizer)"
   ]
  },
  {
   "cell_type": "markdown",
   "metadata": {},
   "source": [
    "Try your Neural Network with 0.7 threshold"
   ]
  },
  {
   "cell_type": "code",
   "execution_count": 35,
   "metadata": {
    "scrolled": true
   },
   "outputs": [
    {
     "data": {
      "text/plain": [
       "['PlayMusic',\n",
       " 'GetWeather',\n",
       " 'GetWeather',\n",
       " 'AddToPlaylist',\n",
       " 'SearchCreativeWork']"
      ]
     },
     "execution_count": 35,
     "metadata": {},
     "output_type": "execute_result"
    }
   ],
   "source": [
    "# YOUR CODE HERE\n",
    "recognize_intents(input_texts, clf_nn, 'nn', 0.7, vectorizer)"
   ]
  },
  {
   "cell_type": "markdown",
   "metadata": {},
   "source": [
    "Try your Neural Network with 0.8 threshold"
   ]
  },
  {
   "cell_type": "code",
   "execution_count": 36,
   "metadata": {},
   "outputs": [
    {
     "data": {
      "text/plain": [
       "['PlayMusic',\n",
       " 'GetWeather',\n",
       " 'GetWeather',\n",
       " 'AddToPlaylist',\n",
       " 'SearchCreativeWork']"
      ]
     },
     "execution_count": 36,
     "metadata": {},
     "output_type": "execute_result"
    }
   ],
   "source": [
    "# YOUR CODE HERE\n",
    "recognize_intents(input_texts, clf_nn, 'nn', 0.8, vectorizer)"
   ]
  },
  {
   "cell_type": "markdown",
   "metadata": {},
   "source": [
    "You can play around with the **recognize_intents** functions with different input texts, threshold values."
   ]
  },
  {
   "cell_type": "code",
   "execution_count": null,
   "metadata": {},
   "outputs": [],
   "source": []
  }
 ],
 "metadata": {
  "kernelspec": {
   "display_name": "Python 3",
   "language": "python",
   "name": "python3"
  },
  "language_info": {
   "codemirror_mode": {
    "name": "ipython",
    "version": 3
   },
   "file_extension": ".py",
   "mimetype": "text/x-python",
   "name": "python",
   "nbconvert_exporter": "python",
   "pygments_lexer": "ipython3",
   "version": "3.7.6"
  }
 },
 "nbformat": 4,
 "nbformat_minor": 2
}
